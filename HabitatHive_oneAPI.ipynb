{
 "cells": [
  {
   "cell_type": "code",
   "execution_count": 1,
   "id": "1802382b",
   "metadata": {
    "_cell_guid": "b1076dfc-b9ad-4769-8c92-a6c4dae69d19",
    "_uuid": "8f2839f25d086af736a60e9eeb907d3b93b6e0e5",
    "executionInfo": {
     "elapsed": 607,
     "status": "ok",
     "timestamp": 1680637615702,
     "user": {
      "displayName": "Sudhanthiran Santosh",
      "userId": "01581113008433627122"
     },
     "user_tz": -330
    },
    "id": "1802382b",
    "papermill": {
     "duration": 2.012269,
     "end_time": "2022-09-07T12:16:30.650595",
     "exception": false,
     "start_time": "2022-09-07T12:16:28.638326",
     "status": "completed"
    },
    "tags": []
   },
   "outputs": [
    {
     "name": "stderr",
     "output_type": "stream",
     "text": [
      "Intel(R) Extension for Scikit-learn* enabled (https://github.com/intel/scikit-learn-intelex)\n"
     ]
    }
   ],
   "source": [
    "import numpy as np\n",
    "import pandas as pd\n",
    "import matplotlib.pyplot as plt\n",
    "import seaborn as sns\n",
    "import statsmodels.api as sm\n",
    "import datetime\n",
    "%matplotlib inline\n",
    "import warnings\n",
    "warnings.filterwarnings('ignore')\n",
    "import sklearn\n",
    "from sklearn.preprocessing import LabelEncoder, OneHotEncoder, StandardScaler"
   ]
  },
  {
   "cell_type": "code",
   "execution_count": 2,
   "id": "5fb237a0-241c-4ffe-8630-79acf71bfb88",
   "metadata": {},
   "outputs": [
    {
     "name": "stdout",
     "output_type": "stream",
     "text": [
      "Defaulting to user installation because normal site-packages is not writeable\n",
      "Requirement already satisfied: statsmodels in ./.local/lib/python3.9/site-packages (0.13.5)\n",
      "Requirement already satisfied: scipy>=1.3 in /glob/development-tools/versions/oneapi/2023.0.1/oneapi/intelpython/python3.9/lib/python3.9/site-packages (from statsmodels) (1.7.3)\n",
      "Requirement already satisfied: pandas>=0.25 in /glob/development-tools/versions/oneapi/2023.0.1/oneapi/intelpython/python3.9/lib/python3.9/site-packages (from statsmodels) (1.5.1)\n",
      "Requirement already satisfied: packaging>=21.3 in /glob/development-tools/versions/oneapi/2023.0.1/oneapi/intelpython/python3.9/lib/python3.9/site-packages (from statsmodels) (21.3)\n",
      "Requirement already satisfied: patsy>=0.5.2 in ./.local/lib/python3.9/site-packages (from statsmodels) (0.5.3)\n",
      "Requirement already satisfied: numpy>=1.17 in /glob/development-tools/versions/oneapi/2023.0.1/oneapi/intelpython/python3.9/lib/python3.9/site-packages (from statsmodels) (1.22.3)\n",
      "Requirement already satisfied: pyparsing!=3.0.5,>=2.0.2 in /glob/development-tools/versions/oneapi/2023.0.1/oneapi/intelpython/python3.9/lib/python3.9/site-packages (from packaging>=21.3->statsmodels) (3.0.9)\n",
      "Requirement already satisfied: python-dateutil>=2.8.1 in /glob/development-tools/versions/oneapi/2023.0.1/oneapi/intelpython/python3.9/lib/python3.9/site-packages (from pandas>=0.25->statsmodels) (2.8.2)\n",
      "Requirement already satisfied: pytz>=2020.1 in /glob/development-tools/versions/oneapi/2023.0.1/oneapi/intelpython/python3.9/lib/python3.9/site-packages (from pandas>=0.25->statsmodels) (2022.1)\n",
      "Requirement already satisfied: six in /glob/development-tools/versions/oneapi/2023.0.1/oneapi/intelpython/python3.9/lib/python3.9/site-packages (from patsy>=0.5.2->statsmodels) (1.16.0)\n",
      "Note: you may need to restart the kernel to use updated packages.\n"
     ]
    }
   ],
   "source": [
    "%pip install statsmodels"
   ]
  },
  {
   "cell_type": "code",
   "execution_count": 3,
   "id": "87819d28-6f8c-4dd9-a117-398d34d39b9b",
   "metadata": {},
   "outputs": [
    {
     "name": "stdout",
     "output_type": "stream",
     "text": [
      "Defaulting to user installation because normal site-packages is not writeable\n",
      "Requirement already satisfied: seaborn in ./.local/lib/python3.9/site-packages (0.12.2)\n",
      "Requirement already satisfied: matplotlib!=3.6.1,>=3.1 in /glob/development-tools/versions/oneapi/2023.0.1/oneapi/intelpython/python3.9/lib/python3.9/site-packages (from seaborn) (3.6.3)\n",
      "Requirement already satisfied: pandas>=0.25 in /glob/development-tools/versions/oneapi/2023.0.1/oneapi/intelpython/python3.9/lib/python3.9/site-packages (from seaborn) (1.5.1)\n",
      "Requirement already satisfied: numpy!=1.24.0,>=1.17 in /glob/development-tools/versions/oneapi/2023.0.1/oneapi/intelpython/python3.9/lib/python3.9/site-packages (from seaborn) (1.22.3)\n",
      "Requirement already satisfied: contourpy>=1.0.1 in /glob/development-tools/versions/oneapi/2023.0.1/oneapi/intelpython/python3.9/lib/python3.9/site-packages (from matplotlib!=3.6.1,>=3.1->seaborn) (1.0.7)\n",
      "Requirement already satisfied: kiwisolver>=1.0.1 in /glob/development-tools/versions/oneapi/2023.0.1/oneapi/intelpython/python3.9/lib/python3.9/site-packages (from matplotlib!=3.6.1,>=3.1->seaborn) (1.4.2)\n",
      "Requirement already satisfied: fonttools>=4.22.0 in /glob/development-tools/versions/oneapi/2023.0.1/oneapi/intelpython/python3.9/lib/python3.9/site-packages (from matplotlib!=3.6.1,>=3.1->seaborn) (4.38.0)\n",
      "Requirement already satisfied: cycler>=0.10 in /glob/development-tools/versions/oneapi/2023.0.1/oneapi/intelpython/python3.9/lib/python3.9/site-packages (from matplotlib!=3.6.1,>=3.1->seaborn) (0.11.0)\n",
      "Requirement already satisfied: pillow>=6.2.0 in /glob/development-tools/versions/oneapi/2023.0.1/oneapi/intelpython/python3.9/lib/python3.9/site-packages (from matplotlib!=3.6.1,>=3.1->seaborn) (9.4.0)\n",
      "Requirement already satisfied: python-dateutil>=2.7 in /glob/development-tools/versions/oneapi/2023.0.1/oneapi/intelpython/python3.9/lib/python3.9/site-packages (from matplotlib!=3.6.1,>=3.1->seaborn) (2.8.2)\n",
      "Requirement already satisfied: pyparsing>=2.2.1 in /glob/development-tools/versions/oneapi/2023.0.1/oneapi/intelpython/python3.9/lib/python3.9/site-packages (from matplotlib!=3.6.1,>=3.1->seaborn) (3.0.9)\n",
      "Requirement already satisfied: packaging>=20.0 in /glob/development-tools/versions/oneapi/2023.0.1/oneapi/intelpython/python3.9/lib/python3.9/site-packages (from matplotlib!=3.6.1,>=3.1->seaborn) (21.3)\n",
      "Requirement already satisfied: pytz>=2020.1 in /glob/development-tools/versions/oneapi/2023.0.1/oneapi/intelpython/python3.9/lib/python3.9/site-packages (from pandas>=0.25->seaborn) (2022.1)\n",
      "Requirement already satisfied: six>=1.5 in /glob/development-tools/versions/oneapi/2023.0.1/oneapi/intelpython/python3.9/lib/python3.9/site-packages (from python-dateutil>=2.7->matplotlib!=3.6.1,>=3.1->seaborn) (1.16.0)\n",
      "Note: you may need to restart the kernel to use updated packages.\n"
     ]
    }
   ],
   "source": [
    "%pip install seaborn"
   ]
  },
  {
   "cell_type": "code",
   "execution_count": 5,
   "id": "71a021fa",
   "metadata": {
    "colab": {
     "base_uri": "https://localhost:8080/"
    },
    "executionInfo": {
     "elapsed": 5,
     "status": "ok",
     "timestamp": 1680637617658,
     "user": {
      "displayName": "Sudhanthiran Santosh",
      "userId": "01581113008433627122"
     },
     "user_tz": -330
    },
    "id": "71a021fa",
    "outputId": "e3cfeccb-d4d4-47e2-fed7-4e0957e42c5e",
    "papermill": {
     "duration": 0.212872,
     "end_time": "2022-09-07T12:16:30.870611",
     "exception": false,
     "start_time": "2022-09-07T12:16:30.657739",
     "status": "completed"
    },
    "tags": []
   },
   "outputs": [
    {
     "name": "stdout",
     "output_type": "stream",
     "text": [
      "(39499, 15)\n",
      "(10500, 14)\n"
     ]
    }
   ],
   "source": [
    "data = pd.read_csv(\"train.csv\")\n",
    "print(data.shape)\n",
    "tdata = pd.read_csv(\"test.csv\")\n",
    "print(tdata.shape)"
   ]
  },
  {
   "cell_type": "code",
   "execution_count": 6,
   "id": "053af231",
   "metadata": {
    "colab": {
     "base_uri": "https://localhost:8080/",
     "height": 394
    },
    "executionInfo": {
     "elapsed": 7,
     "status": "ok",
     "timestamp": 1680637619716,
     "user": {
      "displayName": "Sudhanthiran Santosh",
      "userId": "01581113008433627122"
     },
     "user_tz": -330
    },
    "id": "053af231",
    "outputId": "a92f9376-0e3b-48d7-ae0d-a9bd4f3628a8",
    "papermill": {
     "duration": 0.077455,
     "end_time": "2022-09-07T12:16:30.955128",
     "exception": false,
     "start_time": "2022-09-07T12:16:30.877673",
     "status": "completed"
    },
    "tags": []
   },
   "outputs": [
    {
     "data": {
      "text/html": [
       "<div>\n",
       "<style scoped>\n",
       "    .dataframe tbody tr th:only-of-type {\n",
       "        vertical-align: middle;\n",
       "    }\n",
       "\n",
       "    .dataframe tbody tr th {\n",
       "        vertical-align: top;\n",
       "    }\n",
       "\n",
       "    .dataframe thead th {\n",
       "        text-align: right;\n",
       "    }\n",
       "</style>\n",
       "<table border=\"1\" class=\"dataframe\">\n",
       "  <thead>\n",
       "    <tr style=\"text-align: right;\">\n",
       "      <th></th>\n",
       "      <th>Total</th>\n",
       "      <th>Percent</th>\n",
       "    </tr>\n",
       "  </thead>\n",
       "  <tbody>\n",
       "    <tr>\n",
       "      <th>Number_of_Windows</th>\n",
       "      <td>1654</td>\n",
       "      <td>0.041874</td>\n",
       "    </tr>\n",
       "    <tr>\n",
       "      <th>Frequency_of_Powercuts</th>\n",
       "      <td>1383</td>\n",
       "      <td>0.035014</td>\n",
       "    </tr>\n",
       "    <tr>\n",
       "      <th>Dust_and_Noise</th>\n",
       "      <td>1219</td>\n",
       "      <td>0.030862</td>\n",
       "    </tr>\n",
       "    <tr>\n",
       "      <th>Furnishing</th>\n",
       "      <td>1042</td>\n",
       "      <td>0.026380</td>\n",
       "    </tr>\n",
       "    <tr>\n",
       "      <th>Crime_Rate</th>\n",
       "      <td>787</td>\n",
       "      <td>0.019925</td>\n",
       "    </tr>\n",
       "    <tr>\n",
       "      <th>Property_ID</th>\n",
       "      <td>0</td>\n",
       "      <td>0.000000</td>\n",
       "    </tr>\n",
       "    <tr>\n",
       "      <th>Property_Type</th>\n",
       "      <td>0</td>\n",
       "      <td>0.000000</td>\n",
       "    </tr>\n",
       "    <tr>\n",
       "      <th>Property_Area</th>\n",
       "      <td>0</td>\n",
       "      <td>0.000000</td>\n",
       "    </tr>\n",
       "    <tr>\n",
       "      <th>Number_of_Doors</th>\n",
       "      <td>0</td>\n",
       "      <td>0.000000</td>\n",
       "    </tr>\n",
       "    <tr>\n",
       "      <th>Power_Backup</th>\n",
       "      <td>0</td>\n",
       "      <td>0.000000</td>\n",
       "    </tr>\n",
       "    <tr>\n",
       "      <th>Water_Supply</th>\n",
       "      <td>0</td>\n",
       "      <td>0.000000</td>\n",
       "    </tr>\n",
       "  </tbody>\n",
       "</table>\n",
       "</div>"
      ],
      "text/plain": [
       "                        Total   Percent\n",
       "Number_of_Windows        1654  0.041874\n",
       "Frequency_of_Powercuts   1383  0.035014\n",
       "Dust_and_Noise           1219  0.030862\n",
       "Furnishing               1042  0.026380\n",
       "Crime_Rate                787  0.019925\n",
       "Property_ID                 0  0.000000\n",
       "Property_Type               0  0.000000\n",
       "Property_Area               0  0.000000\n",
       "Number_of_Doors             0  0.000000\n",
       "Power_Backup                0  0.000000\n",
       "Water_Supply                0  0.000000"
      ]
     },
     "execution_count": 6,
     "metadata": {},
     "output_type": "execute_result"
    }
   ],
   "source": [
    "total = data.isnull().sum().sort_values(ascending=False)\n",
    "percent = (data.isnull().sum()/data.isnull().count()).sort_values(ascending=False)\n",
    "missing_data = pd.concat([total,percent], axis=1,keys=['Total','Percent'])\n",
    "missing_data.head(11)"
   ]
  },
  {
   "cell_type": "code",
   "execution_count": 7,
   "id": "b7d10d95",
   "metadata": {
    "colab": {
     "base_uri": "https://localhost:8080/",
     "height": 394
    },
    "executionInfo": {
     "elapsed": 1112,
     "status": "ok",
     "timestamp": 1680637623883,
     "user": {
      "displayName": "Sudhanthiran Santosh",
      "userId": "01581113008433627122"
     },
     "user_tz": -330
    },
    "id": "b7d10d95",
    "outputId": "be1bf6a9-e5f2-46b2-ec12-f1af68fda93c",
    "papermill": {
     "duration": 0.043174,
     "end_time": "2022-09-07T12:16:31.005399",
     "exception": false,
     "start_time": "2022-09-07T12:16:30.962225",
     "status": "completed"
    },
    "tags": []
   },
   "outputs": [
    {
     "data": {
      "text/html": [
       "<div>\n",
       "<style scoped>\n",
       "    .dataframe tbody tr th:only-of-type {\n",
       "        vertical-align: middle;\n",
       "    }\n",
       "\n",
       "    .dataframe tbody tr th {\n",
       "        vertical-align: top;\n",
       "    }\n",
       "\n",
       "    .dataframe thead th {\n",
       "        text-align: right;\n",
       "    }\n",
       "</style>\n",
       "<table border=\"1\" class=\"dataframe\">\n",
       "  <thead>\n",
       "    <tr style=\"text-align: right;\">\n",
       "      <th></th>\n",
       "      <th>Total</th>\n",
       "      <th>Percent</th>\n",
       "    </tr>\n",
       "  </thead>\n",
       "  <tbody>\n",
       "    <tr>\n",
       "      <th>Number_of_Windows</th>\n",
       "      <td>445</td>\n",
       "      <td>0.042381</td>\n",
       "    </tr>\n",
       "    <tr>\n",
       "      <th>Frequency_of_Powercuts</th>\n",
       "      <td>366</td>\n",
       "      <td>0.034857</td>\n",
       "    </tr>\n",
       "    <tr>\n",
       "      <th>Dust_and_Noise</th>\n",
       "      <td>330</td>\n",
       "      <td>0.031429</td>\n",
       "    </tr>\n",
       "    <tr>\n",
       "      <th>Furnishing</th>\n",
       "      <td>257</td>\n",
       "      <td>0.024476</td>\n",
       "    </tr>\n",
       "    <tr>\n",
       "      <th>Crime_Rate</th>\n",
       "      <td>212</td>\n",
       "      <td>0.020190</td>\n",
       "    </tr>\n",
       "    <tr>\n",
       "      <th>Property_ID</th>\n",
       "      <td>0</td>\n",
       "      <td>0.000000</td>\n",
       "    </tr>\n",
       "    <tr>\n",
       "      <th>Property_Type</th>\n",
       "      <td>0</td>\n",
       "      <td>0.000000</td>\n",
       "    </tr>\n",
       "    <tr>\n",
       "      <th>Property_Area</th>\n",
       "      <td>0</td>\n",
       "      <td>0.000000</td>\n",
       "    </tr>\n",
       "    <tr>\n",
       "      <th>Number_of_Doors</th>\n",
       "      <td>0</td>\n",
       "      <td>0.000000</td>\n",
       "    </tr>\n",
       "    <tr>\n",
       "      <th>Power_Backup</th>\n",
       "      <td>0</td>\n",
       "      <td>0.000000</td>\n",
       "    </tr>\n",
       "    <tr>\n",
       "      <th>Water_Supply</th>\n",
       "      <td>0</td>\n",
       "      <td>0.000000</td>\n",
       "    </tr>\n",
       "  </tbody>\n",
       "</table>\n",
       "</div>"
      ],
      "text/plain": [
       "                        Total   Percent\n",
       "Number_of_Windows         445  0.042381\n",
       "Frequency_of_Powercuts    366  0.034857\n",
       "Dust_and_Noise            330  0.031429\n",
       "Furnishing                257  0.024476\n",
       "Crime_Rate                212  0.020190\n",
       "Property_ID                 0  0.000000\n",
       "Property_Type               0  0.000000\n",
       "Property_Area               0  0.000000\n",
       "Number_of_Doors             0  0.000000\n",
       "Power_Backup                0  0.000000\n",
       "Water_Supply                0  0.000000"
      ]
     },
     "execution_count": 7,
     "metadata": {},
     "output_type": "execute_result"
    }
   ],
   "source": [
    "total = tdata.isnull().sum().sort_values(ascending=False)\n",
    "percent = (tdata.isnull().sum()/tdata.isnull().count()).sort_values(ascending=False)\n",
    "missing_tdata = pd.concat([total,percent], axis=1,keys=['Total','Percent'])\n",
    "missing_tdata.head(11)"
   ]
  },
  {
   "cell_type": "code",
   "execution_count": 8,
   "id": "32c0c0f2",
   "metadata": {
    "executionInfo": {
     "elapsed": 9240,
     "status": "ok",
     "timestamp": 1680637637307,
     "user": {
      "displayName": "Sudhanthiran Santosh",
      "userId": "01581113008433627122"
     },
     "user_tz": -330
    },
    "id": "32c0c0f2",
    "papermill": {
     "duration": 9.888084,
     "end_time": "2022-09-07T12:16:40.901397",
     "exception": false,
     "start_time": "2022-09-07T12:16:31.013313",
     "status": "completed"
    },
    "tags": []
   },
   "outputs": [],
   "source": [
    "data['Crime_Rate_equivalent']= 25\n",
    "for i in range (0,33772):\n",
    "  \n",
    "  if (data['Crime_Rate'][i]) == \"Well above average\":\n",
    "   \n",
    "    data['Crime_Rate_equivalent'][i]= 10\n",
    "  if (data['Crime_Rate'][i]) == \"Slightly above average\":\n",
    "    \n",
    "    data['Crime_Rate_equivalent'][i]= 20\n",
    "  if (data['Crime_Rate'][i]) == \"Slightly below average\":\n",
    "    \n",
    "    data['Crime_Rate_equivalent'][i]= 40\n",
    "  if (data['Crime_Rate'][i]) == \"Well below average\":\n",
    "    \n",
    "    data['Crime_Rate_equivalent'][i]= 50\n",
    "  if (data['Crime_Rate'][i]) == \"Unspecified\":\n",
    "    \n",
    "    (data['Crime_Rate_equivalent'][i])= 30\n"
   ]
  },
  {
   "cell_type": "code",
   "execution_count": 9,
   "id": "92d45341",
   "metadata": {
    "executionInfo": {
     "elapsed": 3580,
     "status": "ok",
     "timestamp": 1680637645993,
     "user": {
      "displayName": "Sudhanthiran Santosh",
      "userId": "01581113008433627122"
     },
     "user_tz": -330
    },
    "id": "92d45341",
    "papermill": {
     "duration": 3.198735,
     "end_time": "2022-09-07T12:16:44.107594",
     "exception": false,
     "start_time": "2022-09-07T12:16:40.908859",
     "status": "completed"
    },
    "tags": []
   },
   "outputs": [],
   "source": [
    "tdata['Crime_Rate_equivalent']= 25\n",
    "for i in range (0,10500):\n",
    "  \n",
    "  if (tdata['Crime_Rate'][i]) == \"Well above average\":\n",
    "   \n",
    "    tdata['Crime_Rate_equivalent'][i]= 10\n",
    "  if (tdata['Crime_Rate'][i]) == \"Slightly above average\":\n",
    "    \n",
    "    tdata['Crime_Rate_equivalent'][i]= 20\n",
    "  if (tdata['Crime_Rate'][i]) == \"Slightly below average\":\n",
    "    \n",
    "    tdata['Crime_Rate_equivalent'][i]= 40\n",
    "  if (tdata['Crime_Rate'][i]) == \"Well below average\":\n",
    "    \n",
    "    tdata['Crime_Rate_equivalent'][i]= 50\n",
    "  if (data['Crime_Rate'][i]) == \"Unspecified\":\n",
    "       (data['Crime_Rate_equivalent'][i])= 30\n"
   ]
  },
  {
   "cell_type": "code",
   "execution_count": 10,
   "id": "dc52ec72",
   "metadata": {
    "executionInfo": {
     "elapsed": 13413,
     "status": "ok",
     "timestamp": 1680637661789,
     "user": {
      "displayName": "Sudhanthiran Santosh",
      "userId": "01581113008433627122"
     },
     "user_tz": -330
    },
    "id": "dc52ec72",
    "papermill": {
     "duration": 13.596121,
     "end_time": "2022-09-07T12:16:57.711115",
     "exception": false,
     "start_time": "2022-09-07T12:16:44.114994",
     "status": "completed"
    },
    "tags": []
   },
   "outputs": [],
   "source": [
    "data['Water_Supply_equivalent']= 1.5\n",
    "for i in range (0,33772):\n",
    "  \n",
    "  if (data['Water_Supply'][i]) == \"Once in two days\":\n",
    "   \n",
    "    data['Water_Supply_equivalent'][i]= 3\n",
    "  if (data['Water_Supply'][i]) == \"NOT MENTIONED\":\n",
    "   \n",
    "    data['Water_Supply_equivalent'][i]= 2\n",
    "  if (data['Water_Supply'][i]) == \"Once in a day - Morning\":\n",
    "    \n",
    "    data['Water_Supply_equivalent'][i]= 2\n",
    "  if (data['Water_Supply'][i]) == \"Once in a day - Evening\":\n",
    "    \n",
    "    data['Water_Supply_equivalent'][i]= 2\n",
    "  if (data['Water_Supply'][i]) == \"All time\":\n",
    "    \n",
    "    data['Water_Supply_equivalent'][i]= 1\n",
    "\n",
    "\n",
    "tdata['Water_Supply_equivalent']= 1.5\n",
    "for i in range (0,10500):\n",
    "  \n",
    "  if (tdata['Water_Supply'][i]) == \"Once in two days\":\n",
    "   \n",
    "    tdata['Water_Supply_equivalent'][i]= 3\n",
    "  if (tdata['Water_Supply'][i]) == \"NOT MENTIONED\":\n",
    "   \n",
    "    tdata['Water_Supply_equivalent'][i]= 2\n",
    "  if (tdata['Water_Supply'][i]) == \"Once in a day - Morning\":\n",
    "    \n",
    "    tdata['Water_Supply_equivalent'][i]= 2\n",
    "  if (tdata['Water_Supply'][i]) == \"Once in a day - Evening\":\n",
    "    \n",
    "    tdata['Water_Supply_equivalent'][i]= 2\n",
    "  if (tdata['Water_Supply'][i]) == \"All time\":\n",
    "    \n",
    "    tdata['Water_Supply_equivalent'][i]= 1"
   ]
  },
  {
   "cell_type": "code",
   "execution_count": 11,
   "id": "ff688044",
   "metadata": {
    "executionInfo": {
     "elapsed": 12130,
     "status": "ok",
     "timestamp": 1680637676036,
     "user": {
      "displayName": "Sudhanthiran Santosh",
      "userId": "01581113008433627122"
     },
     "user_tz": -330
    },
    "id": "ff688044",
    "papermill": {
     "duration": 12.664715,
     "end_time": "2022-09-07T12:17:10.383131",
     "exception": false,
     "start_time": "2022-09-07T12:16:57.718416",
     "status": "completed"
    },
    "tags": []
   },
   "outputs": [],
   "source": [
    "data['Dust_and_Noise_equivalent']= 15\n",
    "for i in range (0,33772):\n",
    "  \n",
    "  if (data['Dust_and_Noise'][i]) == \"High\":\n",
    "   \n",
    "    data['Dust_and_Noise_equivalent'][i]= 30\n",
    "  if (data['Dust_and_Noise'][i]) == \"Medium\":\n",
    "    \n",
    "    data['Dust_and_Noise_equivalent'][i]= 20\n",
    "  if (data['Dust_and_Noise'][i]) == \"Low\":\n",
    "    \n",
    "    data['Dust_and_Noise_equivalent'][i]= 10\n",
    "  if (data['Dust_and_Noise'][i]) == \"Unspecified\":\n",
    "    \n",
    "    data['Dust_and_Noise_equivalent'][i]= 15\n",
    "\n",
    "\n",
    "\n",
    "tdata['Dust_and_Noise_equivalent']= 15\n",
    "for i in range (0,10500):\n",
    "  \n",
    "  if (tdata['Dust_and_Noise'][i]) == \"High\":\n",
    "   \n",
    "    tdata['Dust_and_Noise_equivalent'][i]= 30\n",
    "  if (tdata['Dust_and_Noise'][i]) == \"Medium\":\n",
    "    \n",
    "    tdata['Dust_and_Noise_equivalent'][i]= 20\n",
    "  if (tdata['Dust_and_Noise'][i]) == \"Low\":\n",
    "    \n",
    "    tdata['Dust_and_Noise_equivalent'][i]= 10\n",
    "  if (tdata['Dust_and_Noise'][i]) == \"Unspecified\":\n",
    "    \n",
    "    tdata['Dust_and_Noise_equivalent'][i]= 15"
   ]
  },
  {
   "cell_type": "code",
   "execution_count": 12,
   "id": "a2a33605",
   "metadata": {
    "executionInfo": {
     "elapsed": 12641,
     "status": "ok",
     "timestamp": 1680637691065,
     "user": {
      "displayName": "Sudhanthiran Santosh",
      "userId": "01581113008433627122"
     },
     "user_tz": -330
    },
    "id": "a2a33605",
    "papermill": {
     "duration": 13.126945,
     "end_time": "2022-09-07T12:17:23.517043",
     "exception": false,
     "start_time": "2022-09-07T12:17:10.390098",
     "status": "completed"
    },
    "tags": []
   },
   "outputs": [],
   "source": [
    "\n",
    "\n",
    "  data['Furnishing_equivalent'] = 1.5\n",
    "  for i in range (0,33772):\n",
    "    \n",
    "    \n",
    "    if (data['Furnishing'][i]) == \"Unfurnished\":\n",
    "    \n",
    "      data['Furnishing_equivalent'][i]= 3\n",
    "    if (data['Furnishing'][i]) == \"NA\":\n",
    "      \n",
    "      data['Furnishing_equivalent'][i]= 1.5\n",
    "    if (data['Furnishing'][i]) == \"Semi_Furnished\":\n",
    "      \n",
    "      data['Furnishing_equivalent'][i]= 2\n",
    "    if (data['Furnishing'][i]) == \"Fully Furnished\":\n",
    "      \n",
    "      data['Furnishing_equivalent'][i]= 1\n",
    "\n",
    "  tdata['Furnishing_equivalent'] = 1.5\n",
    "  for i in range (0,10500):\n",
    "    \n",
    "    \n",
    "    if (tdata['Furnishing'][i]) == \"Unfurnished\":\n",
    "    \n",
    "      tdata['Furnishing_equivalent'][i]= 3\n",
    "    if (tdata['Furnishing'][i]) == \"NA\":\n",
    "      \n",
    "      tdata['Furnishing_equivalent'][i]= 1.5\n",
    "    if (tdata['Furnishing'][i]) == \"Semi_Furnished\":\n",
    "      \n",
    "      tdata['Furnishing_equivalent'][i]= 2\n",
    "    if (tdata['Furnishing'][i]) == \"Fully Furnished\":\n",
    "      \n",
    "      tdata['Furnishing_equivalent'][i]= 1"
   ]
  },
  {
   "cell_type": "code",
   "execution_count": 13,
   "id": "d6e6b50f",
   "metadata": {
    "executionInfo": {
     "elapsed": 13587,
     "status": "ok",
     "timestamp": 1680637707703,
     "user": {
      "displayName": "Sudhanthiran Santosh",
      "userId": "01581113008433627122"
     },
     "user_tz": -330
    },
    "id": "d6e6b50f",
    "papermill": {
     "duration": 14.104126,
     "end_time": "2022-09-07T12:17:37.628150",
     "exception": false,
     "start_time": "2022-09-07T12:17:23.524024",
     "status": "completed"
    },
    "tags": []
   },
   "outputs": [],
   "source": [
    "data['Property_Type_equivalent']= 1\n",
    "for i in range (0,33772):\n",
    "  \n",
    "  \n",
    "  if (data['Property_Type'][i]) == \"Bungalow\":\n",
    "   \n",
    "    data['Property_Type_equivalent'][i]= 6\n",
    "  if (data['Property_Type'][i]) == \"Duplex\":\n",
    "    \n",
    "    data['Property_Type_equivalent'][i]= 5\n",
    "  if (data['Property_Type'][i]) == \"#R%$G&867\":\n",
    "    \n",
    "    data['Property_Type_equivalent'][i]= 3\n",
    "  if (data['Property_Type'][i]) == \"Single-family home\":\n",
    "    \n",
    "    data['Property_Type_equivalent'][i]= 4\n",
    "  if (data['Property_Type'][i]) == \"Apartment\":\n",
    "    \n",
    "    data['Property_Type_equivalent'][i]= 2\n",
    "  if (data['Property_Type'][i]) == \"Container Home\":\n",
    "    \n",
    "    data['Property_Type_equivalent'][i]= 1\n",
    "\n",
    "  \n",
    "\n",
    "tdata['Property_Type_equivalent']= 1\n",
    "for i in range (0,10500):\n",
    "  \n",
    "  \n",
    "  if (tdata['Property_Type'][i]) == \"Bungalow\":\n",
    "   \n",
    "    tdata['Property_Type_equivalent'][i]= 6\n",
    "  if (tdata['Property_Type'][i]) == \"Duplex\":\n",
    "    \n",
    "    tdata['Property_Type_equivalent'][i]= 5\n",
    "  if (tdata['Property_Type'][i]) == \"#R%$G&867\":\n",
    "    \n",
    "    tdata['Property_Type_equivalent'][i]= 3\n",
    "  if (tdata['Property_Type'][i]) == \"Single-family home\":\n",
    "    \n",
    "    tdata['Property_Type_equivalent'][i]= 4\n",
    "  if (tdata['Property_Type'][i]) == \"Apartment\":\n",
    "    \n",
    "    tdata['Property_Type_equivalent'][i]= 2\n",
    "  if (tdata['Property_Type'][i]) == \"Container Home\":\n",
    "    \n",
    "    tdata['Property_Type_equivalent'][i]= 1"
   ]
  },
  {
   "cell_type": "code",
   "execution_count": 14,
   "id": "2083f4ab",
   "metadata": {
    "executionInfo": {
     "elapsed": 839,
     "status": "ok",
     "timestamp": 1680637711261,
     "user": {
      "displayName": "Sudhanthiran Santosh",
      "userId": "01581113008433627122"
     },
     "user_tz": -330
    },
    "id": "2083f4ab",
    "papermill": {
     "duration": 13.330544,
     "end_time": "2022-09-07T12:17:50.965805",
     "exception": false,
     "start_time": "2022-09-07T12:17:37.635261",
     "status": "completed"
    },
    "tags": []
   },
   "outputs": [],
   "source": [
    "data['Power_Backup_equivalent']= 1\n",
    "for i in range (0,33772):\n",
    "  \n",
    "  \n",
    "  if (data['Power_Backup'][i]) == \"Yes\":\n",
    "   \n",
    "    data['Power_Backup_equivalent'][i]= 1\n",
    "  if (data['Power_Backup'][i]) == \"No\":\n",
    "    \n",
    "    data['Power_Backup_equivalent'][i]= 0\n",
    "  if (data['Power_Backup'][i]) == \"NOT MENTIONED\":\n",
    "    data['Power_Backup_equivalent'][i]= .5\n",
    "\n",
    "tdata['Power_Backup_equivalent']= 1\n",
    "for i in range (0,10500):\n",
    "  \n",
    "  \n",
    "  if (tdata['Power_Backup'][i]) == \"Yes\":\n",
    "   \n",
    "    tdata['Power_Backup_equivalent'][i]= 1\n",
    "  if (tdata['Power_Backup'][i]) == \"No\":\n",
    "    \n",
    "    tdata['Power_Backup_equivalent'][i]= 0\n",
    "  if (tdata['Power_Backup'][i]) == \"NOT MENTIONED\":\n",
    "    tdata['Power_Backup_equivalent'][i]= .5"
   ]
  },
  {
   "cell_type": "code",
   "execution_count": 15,
   "id": "d50999f6",
   "metadata": {
    "executionInfo": {
     "elapsed": 2,
     "status": "ok",
     "timestamp": 1680637717668,
     "user": {
      "displayName": "Sudhanthiran Santosh",
      "userId": "01581113008433627122"
     },
     "user_tz": -330
    },
    "id": "d50999f6",
    "papermill": {
     "duration": 0.030849,
     "end_time": "2022-09-07T12:17:51.004063",
     "exception": false,
     "start_time": "2022-09-07T12:17:50.973214",
     "status": "completed"
    },
    "tags": []
   },
   "outputs": [],
   "source": [
    "data = data.drop([\"Property_Type\", \"Furnishing\",\"Water_Supply\", \"Dust_and_Noise\",\"Crime_Rate\", \"Power_Backup\", \"Property_ID\",],axis=1)\n",
    "sdata = tdata.drop([\"Property_Type\", \"Furnishing\",\"Water_Supply\", \"Dust_and_Noise\",\"Crime_Rate\", \"Power_Backup\",\"Property_ID\"],axis=1)\n",
    "\n"
   ]
  },
  {
   "cell_type": "code",
   "execution_count": 16,
   "id": "e0c433a8",
   "metadata": {
    "colab": {
     "base_uri": "https://localhost:8080/",
     "height": 394
    },
    "executionInfo": {
     "elapsed": 3,
     "status": "ok",
     "timestamp": 1680637721778,
     "user": {
      "displayName": "Sudhanthiran Santosh",
      "userId": "01581113008433627122"
     },
     "user_tz": -330
    },
    "id": "e0c433a8",
    "outputId": "e7bf53d0-a28e-46e2-fb94-504fcaf778c7",
    "papermill": {
     "duration": 0.054285,
     "end_time": "2022-09-07T12:17:51.066973",
     "exception": false,
     "start_time": "2022-09-07T12:17:51.012688",
     "status": "completed"
    },
    "tags": []
   },
   "outputs": [
    {
     "data": {
      "text/html": [
       "<div>\n",
       "<style scoped>\n",
       "    .dataframe tbody tr th:only-of-type {\n",
       "        vertical-align: middle;\n",
       "    }\n",
       "\n",
       "    .dataframe tbody tr th {\n",
       "        vertical-align: top;\n",
       "    }\n",
       "\n",
       "    .dataframe thead th {\n",
       "        text-align: right;\n",
       "    }\n",
       "</style>\n",
       "<table border=\"1\" class=\"dataframe\">\n",
       "  <thead>\n",
       "    <tr style=\"text-align: right;\">\n",
       "      <th></th>\n",
       "      <th>Total</th>\n",
       "      <th>Percent</th>\n",
       "    </tr>\n",
       "  </thead>\n",
       "  <tbody>\n",
       "    <tr>\n",
       "      <th>Number_of_Windows</th>\n",
       "      <td>445</td>\n",
       "      <td>0.042381</td>\n",
       "    </tr>\n",
       "    <tr>\n",
       "      <th>Frequency_of_Powercuts</th>\n",
       "      <td>366</td>\n",
       "      <td>0.034857</td>\n",
       "    </tr>\n",
       "    <tr>\n",
       "      <th>Dust_and_Noise</th>\n",
       "      <td>330</td>\n",
       "      <td>0.031429</td>\n",
       "    </tr>\n",
       "    <tr>\n",
       "      <th>Furnishing</th>\n",
       "      <td>257</td>\n",
       "      <td>0.024476</td>\n",
       "    </tr>\n",
       "    <tr>\n",
       "      <th>Crime_Rate</th>\n",
       "      <td>212</td>\n",
       "      <td>0.020190</td>\n",
       "    </tr>\n",
       "    <tr>\n",
       "      <th>Air_Quality_Index</th>\n",
       "      <td>0</td>\n",
       "      <td>0.000000</td>\n",
       "    </tr>\n",
       "    <tr>\n",
       "      <th>Property_Type_equivalent</th>\n",
       "      <td>0</td>\n",
       "      <td>0.000000</td>\n",
       "    </tr>\n",
       "    <tr>\n",
       "      <th>Furnishing_equivalent</th>\n",
       "      <td>0</td>\n",
       "      <td>0.000000</td>\n",
       "    </tr>\n",
       "    <tr>\n",
       "      <th>Dust_and_Noise_equivalent</th>\n",
       "      <td>0</td>\n",
       "      <td>0.000000</td>\n",
       "    </tr>\n",
       "    <tr>\n",
       "      <th>Water_Supply_equivalent</th>\n",
       "      <td>0</td>\n",
       "      <td>0.000000</td>\n",
       "    </tr>\n",
       "    <tr>\n",
       "      <th>Crime_Rate_equivalent</th>\n",
       "      <td>0</td>\n",
       "      <td>0.000000</td>\n",
       "    </tr>\n",
       "  </tbody>\n",
       "</table>\n",
       "</div>"
      ],
      "text/plain": [
       "                           Total   Percent\n",
       "Number_of_Windows            445  0.042381\n",
       "Frequency_of_Powercuts       366  0.034857\n",
       "Dust_and_Noise               330  0.031429\n",
       "Furnishing                   257  0.024476\n",
       "Crime_Rate                   212  0.020190\n",
       "Air_Quality_Index              0  0.000000\n",
       "Property_Type_equivalent       0  0.000000\n",
       "Furnishing_equivalent          0  0.000000\n",
       "Dust_and_Noise_equivalent      0  0.000000\n",
       "Water_Supply_equivalent        0  0.000000\n",
       "Crime_Rate_equivalent          0  0.000000"
      ]
     },
     "execution_count": 16,
     "metadata": {},
     "output_type": "execute_result"
    }
   ],
   "source": [
    "total = data.isnull().sum().sort_values(ascending=False)\n",
    "percent = (data.isnull().sum()/data.isnull().count()).sort_values(ascending=False)\n",
    "missing_data = pd.concat([total,percent], axis=1,keys=['Total','Percent'])\n",
    "missing_data.head(11)\n",
    "\n",
    "total = tdata.isnull().sum().sort_values(ascending=False)\n",
    "percent = (tdata.isnull().sum()/tdata.isnull().count()).sort_values(ascending=False)\n",
    "missing_tdata = pd.concat([total,percent], axis=1,keys=['Total','Percent'])\n",
    "missing_tdata.head(11)"
   ]
  },
  {
   "cell_type": "code",
   "execution_count": 17,
   "id": "fbab83b2",
   "metadata": {
    "executionInfo": {
     "elapsed": 2,
     "status": "ok",
     "timestamp": 1680637724503,
     "user": {
      "displayName": "Sudhanthiran Santosh",
      "userId": "01581113008433627122"
     },
     "user_tz": -330
    },
    "id": "fbab83b2",
    "papermill": {
     "duration": 0.026922,
     "end_time": "2022-09-07T12:17:51.101118",
     "exception": false,
     "start_time": "2022-09-07T12:17:51.074196",
     "status": "completed"
    },
    "tags": []
   },
   "outputs": [],
   "source": [
    "data['Frequency_of_Powercuts'].fillna((data['Frequency_of_Powercuts'].median()), inplace=True)\n",
    "\n",
    "data['Number_of_Windows'].fillna((data['Number_of_Windows'].median()), inplace=True)\n",
    "\n",
    "sdata['Frequency_of_Powercuts'].fillna((sdata['Frequency_of_Powercuts'].median()), inplace=True)\n",
    "\n",
    "sdata['Number_of_Windows'].fillna((sdata['Number_of_Windows'].median()), inplace=True)"
   ]
  },
  {
   "cell_type": "code",
   "execution_count": 18,
   "id": "7b9df9dd",
   "metadata": {
    "colab": {
     "base_uri": "https://localhost:8080/"
    },
    "executionInfo": {
     "elapsed": 941,
     "status": "ok",
     "timestamp": 1680637728170,
     "user": {
      "displayName": "Sudhanthiran Santosh",
      "userId": "01581113008433627122"
     },
     "user_tz": -330
    },
    "id": "7b9df9dd",
    "outputId": "74aca2d5-85d7-4993-e778-9febed3bf1e0",
    "papermill": {
     "duration": 0.346036,
     "end_time": "2022-09-07T12:17:51.454317",
     "exception": false,
     "start_time": "2022-09-07T12:17:51.108281",
     "status": "completed"
    },
    "tags": []
   },
   "outputs": [
    {
     "name": "stdout",
     "output_type": "stream",
     "text": [
      "<class 'pandas.core.frame.DataFrame'>\n",
      "RangeIndex: 39499 entries, 0 to 39498\n",
      "Data columns (total 15 columns):\n",
      " #   Column                     Non-Null Count  Dtype  \n",
      "---  ------                     --------------  -----  \n",
      " 0   Unnamed: 0                 39499 non-null  int64  \n",
      " 1   Property_Area              39499 non-null  int64  \n",
      " 2   Number_of_Windows          39499 non-null  float64\n",
      " 3   Number_of_Doors            39499 non-null  int64  \n",
      " 4   Frequency_of_Powercuts     39499 non-null  float64\n",
      " 5   Traffic_Density_Score      39499 non-null  float64\n",
      " 6   Air_Quality_Index          39499 non-null  float64\n",
      " 7   Neighborhood_Review        39499 non-null  float64\n",
      " 8   Habitability_score         39499 non-null  float64\n",
      " 9   Crime_Rate_equivalent      39499 non-null  int64  \n",
      " 10  Water_Supply_equivalent    39499 non-null  float64\n",
      " 11  Dust_and_Noise_equivalent  39499 non-null  int64  \n",
      " 12  Furnishing_equivalent      39499 non-null  float64\n",
      " 13  Property_Type_equivalent   39499 non-null  int64  \n",
      " 14  Power_Backup_equivalent    39499 non-null  float64\n",
      "dtypes: float64(9), int64(6)\n",
      "memory usage: 4.5 MB\n"
     ]
    }
   ],
   "source": [
    "\n",
    "\n",
    "data.to_csv(\"cleandata.csv\")\n",
    "data = pd.read_csv(\"cleandata.csv\")\n",
    "data.info()\n"
   ]
  },
  {
   "cell_type": "code",
   "execution_count": 19,
   "id": "762f39d6",
   "metadata": {
    "colab": {
     "base_uri": "https://localhost:8080/"
    },
    "executionInfo": {
     "elapsed": 4,
     "status": "ok",
     "timestamp": 1680637729963,
     "user": {
      "displayName": "Sudhanthiran Santosh",
      "userId": "01581113008433627122"
     },
     "user_tz": -330
    },
    "id": "762f39d6",
    "outputId": "ac2a1e63-318a-4189-9369-60bc3fee1bc6",
    "papermill": {
     "duration": 0.150082,
     "end_time": "2022-09-07T12:17:51.611710",
     "exception": false,
     "start_time": "2022-09-07T12:17:51.461628",
     "status": "completed"
    },
    "tags": []
   },
   "outputs": [
    {
     "name": "stdout",
     "output_type": "stream",
     "text": [
      "<class 'pandas.core.frame.DataFrame'>\n",
      "RangeIndex: 10500 entries, 0 to 10499\n",
      "Data columns (total 21 columns):\n",
      " #   Column                     Non-Null Count  Dtype  \n",
      "---  ------                     --------------  -----  \n",
      " 0   Unnamed: 0                 10500 non-null  int64  \n",
      " 1   Property_ID                10500 non-null  object \n",
      " 2   Property_Type              10500 non-null  object \n",
      " 3   Property_Area              10500 non-null  int64  \n",
      " 4   Number_of_Windows          10055 non-null  float64\n",
      " 5   Number_of_Doors            10500 non-null  int64  \n",
      " 6   Furnishing                 10243 non-null  object \n",
      " 7   Frequency_of_Powercuts     10134 non-null  float64\n",
      " 8   Power_Backup               10500 non-null  object \n",
      " 9   Water_Supply               10500 non-null  object \n",
      " 10  Traffic_Density_Score      10500 non-null  float64\n",
      " 11  Crime_Rate                 10288 non-null  object \n",
      " 12  Dust_and_Noise             10170 non-null  object \n",
      " 13  Air_Quality_Index          10500 non-null  float64\n",
      " 14  Neighborhood_Review        10500 non-null  float64\n",
      " 15  Crime_Rate_equivalent      10500 non-null  int64  \n",
      " 16  Water_Supply_equivalent    10500 non-null  float64\n",
      " 17  Dust_and_Noise_equivalent  10500 non-null  int64  \n",
      " 18  Furnishing_equivalent      10500 non-null  float64\n",
      " 19  Property_Type_equivalent   10500 non-null  int64  \n",
      " 20  Power_Backup_equivalent    10500 non-null  float64\n",
      "dtypes: float64(8), int64(6), object(7)\n",
      "memory usage: 1.7+ MB\n"
     ]
    }
   ],
   "source": [
    "tdata.to_csv(\"cleantdata.csv\")\n",
    "tdata = pd.read_csv(\"cleantdata.csv\")\n",
    "tdata.info()"
   ]
  },
  {
   "cell_type": "code",
   "execution_count": 20,
   "id": "1ba56ca6",
   "metadata": {
    "colab": {
     "base_uri": "https://localhost:8080/"
    },
    "executionInfo": {
     "elapsed": 3,
     "status": "ok",
     "timestamp": 1680637732016,
     "user": {
      "displayName": "Sudhanthiran Santosh",
      "userId": "01581113008433627122"
     },
     "user_tz": -330
    },
    "id": "1ba56ca6",
    "outputId": "12251e20-f100-46c8-9802-a6daf9c713ee",
    "papermill": {
     "duration": 0.106031,
     "end_time": "2022-09-07T12:17:51.726085",
     "exception": false,
     "start_time": "2022-09-07T12:17:51.620054",
     "status": "completed"
    },
    "tags": []
   },
   "outputs": [
    {
     "name": "stdout",
     "output_type": "stream",
     "text": [
      "<class 'pandas.core.frame.DataFrame'>\n",
      "RangeIndex: 10500 entries, 0 to 10499\n",
      "Data columns (total 14 columns):\n",
      " #   Column                     Non-Null Count  Dtype  \n",
      "---  ------                     --------------  -----  \n",
      " 0   Unnamed: 0                 10500 non-null  int64  \n",
      " 1   Property_Area              10500 non-null  int64  \n",
      " 2   Number_of_Windows          10500 non-null  float64\n",
      " 3   Number_of_Doors            10500 non-null  int64  \n",
      " 4   Frequency_of_Powercuts     10500 non-null  float64\n",
      " 5   Traffic_Density_Score      10500 non-null  float64\n",
      " 6   Air_Quality_Index          10500 non-null  float64\n",
      " 7   Neighborhood_Review        10500 non-null  float64\n",
      " 8   Crime_Rate_equivalent      10500 non-null  int64  \n",
      " 9   Water_Supply_equivalent    10500 non-null  float64\n",
      " 10  Dust_and_Noise_equivalent  10500 non-null  int64  \n",
      " 11  Furnishing_equivalent      10500 non-null  float64\n",
      " 12  Property_Type_equivalent   10500 non-null  int64  \n",
      " 13  Power_Backup_equivalent    10500 non-null  float64\n",
      "dtypes: float64(8), int64(6)\n",
      "memory usage: 1.1 MB\n"
     ]
    }
   ],
   "source": [
    "sdata.to_csv(\"testdata.csv\")\n",
    "\n",
    "\n",
    "sdata = pd.read_csv(\"testdata.csv\")\n",
    "sdata.info()"
   ]
  },
  {
   "cell_type": "code",
   "execution_count": 21,
   "id": "f09cec48",
   "metadata": {
    "executionInfo": {
     "elapsed": 2,
     "status": "ok",
     "timestamp": 1680637734139,
     "user": {
      "displayName": "Sudhanthiran Santosh",
      "userId": "01581113008433627122"
     },
     "user_tz": -330
    },
    "id": "f09cec48",
    "papermill": {
     "duration": 0.021979,
     "end_time": "2022-09-07T12:17:51.756636",
     "exception": false,
     "start_time": "2022-09-07T12:17:51.734657",
     "status": "completed"
    },
    "tags": []
   },
   "outputs": [],
   "source": [
    "data = data.drop([ 'Unnamed: 0' ],axis=1)"
   ]
  },
  {
   "cell_type": "code",
   "execution_count": 22,
   "id": "9610c380",
   "metadata": {
    "executionInfo": {
     "elapsed": 2,
     "status": "ok",
     "timestamp": 1680637736357,
     "user": {
      "displayName": "Sudhanthiran Santosh",
      "userId": "01581113008433627122"
     },
     "user_tz": -330
    },
    "id": "9610c380",
    "papermill": {
     "duration": 0.01814,
     "end_time": "2022-09-07T12:17:51.782395",
     "exception": false,
     "start_time": "2022-09-07T12:17:51.764255",
     "status": "completed"
    },
    "tags": []
   },
   "outputs": [],
   "source": [
    "\n",
    "sdata = sdata.drop([ 'Unnamed: 0' ],axis=1)"
   ]
  },
  {
   "cell_type": "code",
   "execution_count": 23,
   "id": "40197001",
   "metadata": {
    "colab": {
     "base_uri": "https://localhost:8080/"
    },
    "executionInfo": {
     "elapsed": 3,
     "status": "ok",
     "timestamp": 1680637737814,
     "user": {
      "displayName": "Sudhanthiran Santosh",
      "userId": "01581113008433627122"
     },
     "user_tz": -330
    },
    "id": "40197001",
    "outputId": "f4dffb94-376b-46bf-b675-973661eb37f5",
    "papermill": {
     "duration": 0.033504,
     "end_time": "2022-09-07T12:17:51.823314",
     "exception": false,
     "start_time": "2022-09-07T12:17:51.789810",
     "status": "completed"
    },
    "tags": []
   },
   "outputs": [
    {
     "name": "stdout",
     "output_type": "stream",
     "text": [
      "(39499, 14)\n",
      "(37524, 14)\n"
     ]
    }
   ],
   "source": [
    "test_data = data.sample(frac=0.05)\n",
    "print(data.shape)\n",
    "duplicates = set(data.index).intersection(test_data.index)\n",
    "data = data.drop(duplicates, axis=0)\n",
    "print(data.shape)"
   ]
  },
  {
   "cell_type": "code",
   "execution_count": 24,
   "id": "b9e54286",
   "metadata": {
    "colab": {
     "base_uri": "https://localhost:8080/"
    },
    "executionInfo": {
     "elapsed": 2,
     "status": "ok",
     "timestamp": 1680637739429,
     "user": {
      "displayName": "Sudhanthiran Santosh",
      "userId": "01581113008433627122"
     },
     "user_tz": -330
    },
    "id": "b9e54286",
    "outputId": "295c7d05-e891-46ab-829e-cc2c6f6f4873",
    "papermill": {
     "duration": 0.019077,
     "end_time": "2022-09-07T12:17:51.850107",
     "exception": false,
     "start_time": "2022-09-07T12:17:51.831030",
     "status": "completed"
    },
    "tags": []
   },
   "outputs": [
    {
     "name": "stdout",
     "output_type": "stream",
     "text": [
      "(1975, 13)\n"
     ]
    }
   ],
   "source": [
    "test_data = test_data.drop(['Habitability_score'],axis=1)\n",
    "print(test_data.shape)"
   ]
  },
  {
   "cell_type": "code",
   "execution_count": 25,
   "id": "a7669fc3",
   "metadata": {
    "executionInfo": {
     "elapsed": 2,
     "status": "ok",
     "timestamp": 1680637741649,
     "user": {
      "displayName": "Sudhanthiran Santosh",
      "userId": "01581113008433627122"
     },
     "user_tz": -330
    },
    "id": "a7669fc3",
    "papermill": {
     "duration": 0.020886,
     "end_time": "2022-09-07T12:17:51.878806",
     "exception": false,
     "start_time": "2022-09-07T12:17:51.857920",
     "status": "completed"
    },
    "tags": []
   },
   "outputs": [],
   "source": [
    "scores = data['Habitability_score']\n",
    "features = data.drop('Habitability_score', axis = 1)"
   ]
  },
  {
   "cell_type": "code",
   "execution_count": 26,
   "id": "561d7408",
   "metadata": {
    "executionInfo": {
     "elapsed": 3,
     "status": "ok",
     "timestamp": 1680637743583,
     "user": {
      "displayName": "Sudhanthiran Santosh",
      "userId": "01581113008433627122"
     },
     "user_tz": -330
    },
    "id": "561d7408",
    "papermill": {
     "duration": 0.085702,
     "end_time": "2022-09-07T12:17:51.972731",
     "exception": false,
     "start_time": "2022-09-07T12:17:51.887029",
     "status": "completed"
    },
    "tags": []
   },
   "outputs": [],
   "source": [
    "from sklearn.model_selection import train_test_split\n",
    "X_train, X_test, y_train, y_test = train_test_split(features, scores, test_size=0.5, random_state = 42)"
   ]
  },
  {
   "cell_type": "code",
   "execution_count": 27,
   "id": "b97920a9",
   "metadata": {
    "colab": {
     "base_uri": "https://localhost:8080/"
    },
    "executionInfo": {
     "elapsed": 26200,
     "status": "ok",
     "timestamp": 1680637771850,
     "user": {
      "displayName": "Sudhanthiran Santosh",
      "userId": "01581113008433627122"
     },
     "user_tz": -330
    },
    "id": "b97920a9",
    "outputId": "91cf7a57-d8a5-4b1d-f2da-d700a678656b",
    "papermill": {
     "duration": 28.51451,
     "end_time": "2022-09-07T12:18:20.495148",
     "exception": false,
     "start_time": "2022-09-07T12:17:51.980638",
     "status": "completed"
    },
    "tags": []
   },
   "outputs": [
    {
     "name": "stdout",
     "output_type": "stream",
     "text": [
      "AdaBoostRegressor(base_estimator=DecisionTreeRegressor(max_depth=10),\n",
      "                  learning_rate=0.1, n_estimators=400)\n",
      "R2 Value: 0.8450248247203895\n",
      "Accuracy 91.47419256054553\n"
     ]
    }
   ],
   "source": [
    "from sklearn.ensemble import AdaBoostRegressor\n",
    "from sklearn.tree import DecisionTreeRegressor\n",
    " \n",
    "#weaklearner\n",
    "DTR=DecisionTreeRegressor(max_depth=10)\n",
    "RegModel = AdaBoostRegressor(n_estimators=400, base_estimator=DTR ,learning_rate=.1)\n",
    " \n",
    "#Printing all the parameters of Adaboost\n",
    "print(RegModel)\n",
    " \n",
    "#Creating the model on Training Data\n",
    "AB=RegModel.fit(X_train,y_train)\n",
    "prediction=AB.predict(X_test)\n",
    " \n",
    "#Measuring Goodness of fit in Training data\n",
    "from sklearn import metrics\n",
    "print('R2 Value:',metrics.r2_score(y_train, AB.predict(X_train)))\n",
    " \n",
    "#Measuring accuracy on Testing Data\n",
    "print('Accuracy',100- (np.mean(np.abs((y_test - prediction) / y_test)) * 100))\n",
    " \n",
    "\n",
    "\n",
    "AB_predicted_score = AB.predict(sdata)\n",
    "tdata[\"Habitability_score\"] = AB_predicted_score \n",
    "\n",
    "tdata.to_csv(\"adaboost3.csv\")"
   ]
  },
  {
   "cell_type": "code",
   "execution_count": 29,
   "id": "729773ed-b4d3-4a93-a845-190757d0a0ef",
   "metadata": {},
   "outputs": [],
   "source": [
    "import pickle\n"
   ]
  },
  {
   "cell_type": "code",
   "execution_count": 30,
   "id": "7e9de48e-3c2f-4982-821a-d5f19f5beafa",
   "metadata": {},
   "outputs": [],
   "source": [
    "filename = 'finalized_model.sav'\n",
    "pickle.dump(AB, open(filename, 'wb'))"
   ]
  },
  {
   "cell_type": "code",
   "execution_count": null,
   "id": "WTWYU-aDGDL5",
   "metadata": {
    "colab": {
     "base_uri": "https://localhost:8080/",
     "height": 488
    },
    "executionInfo": {
     "elapsed": 853,
     "status": "ok",
     "timestamp": 1680625653041,
     "user": {
      "displayName": "Sudhanthiran Santosh",
      "userId": "01581113008433627122"
     },
     "user_tz": -330
    },
    "id": "WTWYU-aDGDL5",
    "outputId": "5a190abc-a742-494e-844d-19b303a4929d"
   },
   "outputs": [],
   "source": [
    "X_test"
   ]
  },
  {
   "cell_type": "code",
   "execution_count": null,
   "id": "dc3a2ea6-5d17-4e93-8f9a-738d883c4724",
   "metadata": {},
   "outputs": [],
   "source": []
  },
  {
   "cell_type": "code",
   "execution_count": null,
   "id": "42af309e-8dd5-4ef0-a0f5-f0e4ffce436d",
   "metadata": {},
   "outputs": [],
   "source": []
  },
  {
   "cell_type": "code",
   "execution_count": null,
   "id": "EGVbBHwCGeCK",
   "metadata": {
    "colab": {
     "base_uri": "https://localhost:8080/"
    },
    "executionInfo": {
     "elapsed": 750,
     "status": "ok",
     "timestamp": 1680625764043,
     "user": {
      "displayName": "Sudhanthiran Santosh",
      "userId": "01581113008433627122"
     },
     "user_tz": -330
    },
    "id": "EGVbBHwCGeCK",
    "outputId": "5580e87e-d11e-4c8d-df5d-486efe38aaae"
   },
   "outputs": [],
   "source": [
    "list(X_test)"
   ]
  },
  {
   "cell_type": "code",
   "execution_count": null,
   "id": "qUcdfOPadoTm",
   "metadata": {
    "id": "qUcdfOPadoTm"
   },
   "outputs": [],
   "source": [
    "new_df = pd.read_csv('/content/adaboost3.csv')"
   ]
  },
  {
   "cell_type": "code",
   "execution_count": null,
   "id": "2qjOtJcqd4A-",
   "metadata": {
    "colab": {
     "base_uri": "https://localhost:8080/",
     "height": 557
    },
    "executionInfo": {
     "elapsed": 366,
     "status": "ok",
     "timestamp": 1680625623323,
     "user": {
      "displayName": "Sudhanthiran Santosh",
      "userId": "01581113008433627122"
     },
     "user_tz": -330
    },
    "id": "2qjOtJcqd4A-",
    "outputId": "1eb95453-49f0-4eb3-e807-9885d5635251"
   },
   "outputs": [],
   "source": [
    "new_df"
   ]
  },
  {
   "cell_type": "code",
   "execution_count": null,
   "id": "flUid4z0d52m",
   "metadata": {
    "colab": {
     "base_uri": "https://localhost:8080/"
    },
    "executionInfo": {
     "elapsed": 474,
     "status": "ok",
     "timestamp": 1680602576272,
     "user": {
      "displayName": "Sudhanthiran Santosh",
      "userId": "01581113008433627122"
     },
     "user_tz": -330
    },
    "id": "flUid4z0d52m",
    "outputId": "a058ee77-9862-473f-e30d-e9b680fc400b"
   },
   "outputs": [],
   "source": [
    "print(1)"
   ]
  },
  {
   "cell_type": "code",
   "execution_count": null,
   "id": "eOBkYmlYwJra",
   "metadata": {
    "colab": {
     "base_uri": "https://localhost:8080/"
    },
    "executionInfo": {
     "elapsed": 539,
     "status": "ok",
     "timestamp": 1680603140984,
     "user": {
      "displayName": "Sudhanthiran Santosh",
      "userId": "01581113008433627122"
     },
     "user_tz": -330
    },
    "id": "eOBkYmlYwJra",
    "outputId": "a5d7a670-4a1f-4b5d-d27b-c767187ebad1"
   },
   "outputs": [],
   "source": [
    "new_train.info()"
   ]
  },
  {
   "cell_type": "code",
   "execution_count": null,
   "id": "MiTnzCXhlhXI",
   "metadata": {
    "id": "MiTnzCXhlhXI"
   },
   "outputs": [],
   "source": [
    "## new csv for webapp\n",
    "new_train = pd.read_csv('cleantdata.csv')"
   ]
  },
  {
   "cell_type": "code",
   "execution_count": null,
   "id": "aigAiOX2y-ws",
   "metadata": {
    "colab": {
     "base_uri": "https://localhost:8080/"
    },
    "executionInfo": {
     "elapsed": 2,
     "status": "ok",
     "timestamp": 1680603881055,
     "user": {
      "displayName": "Sudhanthiran Santosh",
      "userId": "01581113008433627122"
     },
     "user_tz": -330
    },
    "id": "aigAiOX2y-ws",
    "outputId": "35aebfad-0da2-4b75-e00c-a97790f08a3b"
   },
   "outputs": [],
   "source": [
    "list(new_train)"
   ]
  },
  {
   "cell_type": "code",
   "execution_count": null,
   "id": "HW-XL7srwgqp",
   "metadata": {
    "id": "HW-XL7srwgqp"
   },
   "outputs": [],
   "source": [
    "common_values_of_area = new_train[[\n",
    " 'Property_Area',\n",
    " 'Number_of_Windows',\n",
    " 'Number_of_Doors',\n",
    " 'Frequency_of_Powercuts',\n",
    " 'Power_Backup',\n",
    " 'Water_Supply',\n",
    " 'Traffic_Density_Score',\n",
    " 'Crime_Rate',\n",
    " 'Dust_and_Noise',\n",
    " 'Air_Quality_Index',\n",
    " 'Neighborhood_Review',\n",
    " 'Crime_Rate_equivalent',\n",
    " 'Water_Supply_equivalent',\n",
    " 'Dust_and_Noise_equivalent',\n",
    " 'Power_Backup_equivalent']]"
   ]
  },
  {
   "cell_type": "code",
   "execution_count": null,
   "id": "qFR_kE0sGkR6",
   "metadata": {
    "colab": {
     "base_uri": "https://localhost:8080/",
     "height": 488
    },
    "executionInfo": {
     "elapsed": 420,
     "status": "ok",
     "timestamp": 1680625785600,
     "user": {
      "displayName": "Sudhanthiran Santosh",
      "userId": "01581113008433627122"
     },
     "user_tz": -330
    },
    "id": "qFR_kE0sGkR6",
    "outputId": "f887a26a-0c1b-42a9-dd69-c0f01cf94dcc"
   },
   "outputs": [],
   "source": [
    "X_test"
   ]
  },
  {
   "cell_type": "code",
   "execution_count": null,
   "id": "mERh8XHDv-d0",
   "metadata": {
    "id": "mERh8XHDv-d0"
   },
   "outputs": [],
   "source": [
    "data = {'Property_Area':[953],\n",
    " 'Number_of_Windows':[5.0],\n",
    " 'Number_of_Doors':[3],\n",
    " 'Frequency_of_Powercuts':[0.0],\n",
    " 'Traffic_Density_Score':[5.64],\n",
    " 'Air_Quality_Index':[107.0],\n",
    " 'Neighborhood_Review':[3.84],\n",
    " 'Crime_Rate_equivalent':25,\n",
    " 'Water_Supply_equivalent':[1.5],\n",
    " 'Dust_and_Noise_equivalent':[15],\n",
    " 'Furnishing_equivalent':[1.5],\n",
    " 'Property_Type_equivalent':[1],\n",
    " 'Power_Backup_equivalent':[1.0]}\n",
    "df_test = pd.DataFrame(data)"
   ]
  },
  {
   "cell_type": "code",
   "execution_count": null,
   "id": "UomiIrOxHdCq",
   "metadata": {
    "id": "UomiIrOxHdCq"
   },
   "outputs": [],
   "source": [
    "prediction=AB.predict(df_test)"
   ]
  },
  {
   "cell_type": "code",
   "execution_count": null,
   "id": "73nn4iKVHkya",
   "metadata": {
    "colab": {
     "base_uri": "https://localhost:8080/"
    },
    "executionInfo": {
     "elapsed": 3,
     "status": "ok",
     "timestamp": 1680628393830,
     "user": {
      "displayName": "Sudhanthiran Santosh",
      "userId": "01581113008433627122"
     },
     "user_tz": -330
    },
    "id": "73nn4iKVHkya",
    "outputId": "c2603701-5622-497f-a050-69f3c8eba99d"
   },
   "outputs": [],
   "source": [
    "prediction"
   ]
  },
  {
   "cell_type": "code",
   "execution_count": null,
   "id": "WDicQgVNHmB5",
   "metadata": {
    "id": "WDicQgVNHmB5"
   },
   "outputs": [],
   "source": [
    "X_test.to_csv('for_filtering')"
   ]
  },
  {
   "cell_type": "markdown",
   "id": "qBKxtpHw0Ym0",
   "metadata": {
    "id": "qBKxtpHw0Ym0"
   },
   "source": [
    "***From here the test part of the prediction model starts***\n"
   ]
  },
  {
   "cell_type": "code",
   "execution_count": null,
   "id": "x2wDRnd6Q9A0",
   "metadata": {
    "executionInfo": {
     "elapsed": 606,
     "status": "ok",
     "timestamp": 1680637997318,
     "user": {
      "displayName": "Sudhanthiran Santosh",
      "userId": "01581113008433627122"
     },
     "user_tz": -330
    },
    "id": "x2wDRnd6Q9A0"
   },
   "outputs": [],
   "source": [
    "values_with_property_area = pd.read_csv('def_values.csv')"
   ]
  },
  {
   "cell_type": "code",
   "execution_count": null,
   "id": "slgBbHGC070T",
   "metadata": {
    "executionInfo": {
     "elapsed": 2,
     "status": "ok",
     "timestamp": 1680638010789,
     "user": {
      "displayName": "Sudhanthiran Santosh",
      "userId": "01581113008433627122"
     },
     "user_tz": -330
    },
    "id": "slgBbHGC070T"
   },
   "outputs": [],
   "source": [
    "def cal_Furnishing_Equivalent(Furnishing):\n",
    "    \n",
    "  if Furnishing == \"Unfurnished\":\n",
    "    \n",
    "    Furnishing_equivalent= 3\n",
    "  if Furnishing == \"NA\":\n",
    "      \n",
    "    Furnishing_equivalent = 1.5\n",
    "  if Furnishing == \"Semi_Furnished\":\n",
    "      \n",
    "    Furnishing_equivalent = 2\n",
    "  if Furnishing == \"Fully Furnished\":\n",
    "      \n",
    "    Furnishing_equivalent= 1\n",
    "  return Furnishing_equivalent\n"
   ]
  },
  {
   "cell_type": "code",
   "execution_count": null,
   "id": "b8S9xM2n1NzN",
   "metadata": {
    "executionInfo": {
     "elapsed": 5,
     "status": "ok",
     "timestamp": 1680638017625,
     "user": {
      "displayName": "Sudhanthiran Santosh",
      "userId": "01581113008433627122"
     },
     "user_tz": -330
    },
    "id": "b8S9xM2n1NzN"
   },
   "outputs": [],
   "source": [
    "def cal_Prop_Type_Equivalent(Property_Type):\n",
    "  if Property_Type == \"Bungalow\":\n",
    "   \n",
    "    Property_Type_equivalent= 6\n",
    "  if Property_Type == \"Duplex\":\n",
    "    \n",
    "    Property_Type_equivalent= 5\n",
    "  if Property_Type == \"#R%$G&867\":\n",
    "    \n",
    "    Property_Type_equivalent= 3\n",
    "  if Property_Type == \"Single-family home\":\n",
    "    \n",
    "    Property_Type_equivalent= 4\n",
    "  if Property_Type== \"Apartment\":\n",
    "    \n",
    "    Property_Type_equivalent= 2\n",
    "  if Property_Type == \"Container Home\":\n",
    "    \n",
    "    Property_Type_equivalent= 1\n",
    "  return Property_Type_equivalent"
   ]
  },
  {
   "cell_type": "code",
   "execution_count": null,
   "id": "eT6Fu93m1PoU",
   "metadata": {
    "executionInfo": {
     "elapsed": 6,
     "status": "ok",
     "timestamp": 1680638029494,
     "user": {
      "displayName": "Sudhanthiran Santosh",
      "userId": "01581113008433627122"
     },
     "user_tz": -330
    },
    "id": "eT6Fu93m1PoU"
   },
   "outputs": [],
   "source": [
    "def fill_df(Property_Area,Number_of_Windows,Number_of_Doors,Furnishing_equivalent,Property_Type_equivalent):\n",
    "  Frequency_of_Powercuts = values_with_property_area.loc[values_with_property_area['Property_Area'] == Property_Area,'Frequency_of_Powercuts'].mean()\n",
    "  Traffic_Density_Score = values_with_property_area.loc[values_with_property_area['Property_Area'] == Property_Area,'Traffic_Density_Score'].mean()\n",
    "  Air_Quality_Index = values_with_property_area.loc[values_with_property_area['Property_Area'] == Property_Area,'Air_Quality_Index'].mean()\n",
    "  Neighborhood_Review = values_with_property_area.loc[values_with_property_area['Property_Area'] == Property_Area,'Neighborhood_Review'].mean()\n",
    "  Crime_Rate_equivalent = values_with_property_area.loc[values_with_property_area['Property_Area'] == Property_Area,'Crime_Rate_equivalent'].mean()\n",
    "  Water_Supply_equivalent = values_with_property_area.loc[values_with_property_area['Property_Area'] == Property_Area,'Water_Supply_equivalent'].mean()\n",
    "  Dust_and_Noise_equivalent = values_with_property_area.loc[values_with_property_area['Property_Area'] == Property_Area,'Dust_and_Noise_equivalent'].mean()\n",
    "  Power_Backup_equivalent = values_with_property_area.loc[values_with_property_area['Property_Area'] == Property_Area,'Power_Backup_equivalent'].mean()\n",
    "\n",
    "#   data_list = [Property_Area,\n",
    "#  Number_of_Windows,\n",
    "#  Number_of_Doors,\n",
    "#  Frequency_of_Powercuts,\n",
    "#  Traffic_Density_Score,\n",
    "#  Air_Quality_Index,\n",
    "#  Neighborhood_Review,\n",
    "#  Crime_Rate_equivalent,\n",
    "#  Water_Supply_equivalent,\n",
    "#  Dust_and_Noise_equivalent,\n",
    "#  Furnishing_equivalent,\n",
    "#  Property_Type_equivalent,\n",
    "#  Power_Backup_equivalent]\n",
    "\n",
    "  data_dict = data = {'Property_Area':[Property_Area],\n",
    " 'Number_of_Windows':[Number_of_Windows],\n",
    " 'Number_of_Doors':[Number_of_Doors],\n",
    " 'Frequency_of_Powercuts':[Frequency_of_Powercuts],\n",
    " 'Traffic_Density_Score':[Traffic_Density_Score],\n",
    " 'Air_Quality_Index':[Air_Quality_Index],\n",
    " 'Neighborhood_Review':[Neighborhood_Review],\n",
    " 'Crime_Rate_equivalent':Crime_Rate_equivalent,\n",
    " 'Water_Supply_equivalent':[Water_Supply_equivalent],\n",
    " 'Dust_and_Noise_equivalent':[Dust_and_Noise_equivalent],\n",
    " 'Furnishing_equivalent':[Furnishing_equivalent],\n",
    " 'Property_Type_equivalent':[Property_Type_equivalent],\n",
    " 'Power_Backup_equivalent':[Power_Backup_equivalent]}\n",
    "\n",
    "  pred_df = pd.DataFrame(data_dict)\n",
    "  return pred_df\n"
   ]
  },
  {
   "cell_type": "code",
   "execution_count": null,
   "id": "r__x7_ul1SdU",
   "metadata": {
    "colab": {
     "base_uri": "https://localhost:8080/"
    },
    "executionInfo": {
     "elapsed": 28096,
     "status": "ok",
     "timestamp": 1680638069159,
     "user": {
      "displayName": "Sudhanthiran Santosh",
      "userId": "01581113008433627122"
     },
     "user_tz": -330
    },
    "id": "r__x7_ul1SdU",
    "outputId": "dcd794df-845c-4878-f7ac-580b87cad343"
   },
   "outputs": [],
   "source": [
    "Property_Area = int(input('Enter the Property Area Code: '))\n",
    "Property_Type = input('Enter the property Type: ')\n",
    "Furnishing = input('Enter The Furnishing Type: ')\n",
    "Number_of_Windows = float(input('Enter the number of Windows: '))\n",
    "Number_of_Doors = int(input('Enter the number of Doors: '))\n",
    "Furnishing_equivalent = cal_Furnishing_Equivalent(Furnishing)\n",
    "Property_Type_equivalent = cal_Prop_Type_Equivalent(Property_Type)\n",
    "pred_df = fill_df(Property_Area,Number_of_Windows,Number_of_Doors,Furnishing_equivalent,Property_Type_equivalent)"
   ]
  },
  {
   "cell_type": "code",
   "execution_count": null,
   "id": "ZJhuxMC-1VYs",
   "metadata": {
    "colab": {
     "base_uri": "https://localhost:8080/",
     "height": 145
    },
    "executionInfo": {
     "elapsed": 6,
     "status": "ok",
     "timestamp": 1680638078638,
     "user": {
      "displayName": "Sudhanthiran Santosh",
      "userId": "01581113008433627122"
     },
     "user_tz": -330
    },
    "id": "ZJhuxMC-1VYs",
    "outputId": "c011a04c-b86c-4736-e873-2b81eb5fffb5"
   },
   "outputs": [],
   "source": [
    "pred_df"
   ]
  },
  {
   "cell_type": "code",
   "execution_count": null,
   "id": "v3ZVk42m1eTk",
   "metadata": {
    "executionInfo": {
     "elapsed": 2,
     "status": "ok",
     "timestamp": 1680638097159,
     "user": {
      "displayName": "Sudhanthiran Santosh",
      "userId": "01581113008433627122"
     },
     "user_tz": -330
    },
    "id": "v3ZVk42m1eTk"
   },
   "outputs": [],
   "source": [
    "prediction=AB.predict(pred_df)"
   ]
  },
  {
   "cell_type": "code",
   "execution_count": null,
   "id": "Wwwy__WY1jD8",
   "metadata": {
    "colab": {
     "base_uri": "https://localhost:8080/"
    },
    "executionInfo": {
     "elapsed": 2,
     "status": "ok",
     "timestamp": 1680638103389,
     "user": {
      "displayName": "Sudhanthiran Santosh",
      "userId": "01581113008433627122"
     },
     "user_tz": -330
    },
    "id": "Wwwy__WY1jD8",
    "outputId": "fcfc291d-aeec-43f0-8880-4461023850d7"
   },
   "outputs": [],
   "source": [
    "prediction"
   ]
  },
  {
   "cell_type": "code",
   "execution_count": null,
   "id": "02RKsqNY1kS7",
   "metadata": {
    "id": "02RKsqNY1kS7"
   },
   "outputs": [],
   "source": []
  }
 ],
 "metadata": {
  "accelerator": "GPU",
  "colab": {
   "provenance": []
  },
  "gpuClass": "standard",
  "kernelspec": {
   "display_name": "Python 3 (Intel® oneAPI 2023.0)",
   "language": "python",
   "name": "c009-intel_distribution_of_python_3_oneapi-beta05-python"
  },
  "language_info": {
   "codemirror_mode": {
    "name": "ipython",
    "version": 3
   },
   "file_extension": ".py",
   "mimetype": "text/x-python",
   "name": "python",
   "nbconvert_exporter": "python",
   "pygments_lexer": "ipython3",
   "version": "3.9.15"
  },
  "papermill": {
   "default_parameters": {},
   "duration": 122.00038,
   "end_time": "2022-09-07T12:18:21.328056",
   "environment_variables": {},
   "exception": null,
   "input_path": "__notebook__.ipynb",
   "output_path": "__notebook__.ipynb",
   "parameters": {},
   "start_time": "2022-09-07T12:16:19.327676",
   "version": "2.3.4"
  }
 },
 "nbformat": 4,
 "nbformat_minor": 5
}
